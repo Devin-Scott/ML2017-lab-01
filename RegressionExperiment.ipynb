{
 "cells": [
  {
   "cell_type": "code",
   "execution_count": 2,
   "metadata": {
    "collapsed": false
   },
   "outputs": [
    {
     "name": "stdout",
     "output_type": "stream",
     "text": [
      "epochs: 100  train loss: 470.847224078  validation loss:642.090362442\n",
      "epochs: 200  train loss: 401.921570269  validation loss:557.55598153\n",
      "epochs: 300  train loss: 344.78898008  validation loss:486.760896676\n",
      "epochs: 400  train loss: 297.414310988  validation loss:427.406020065\n",
      "epochs: 500  train loss: 258.114220506  validation loss:377.582388544\n",
      "epochs: 600  train loss: 225.496318565  validation loss:335.704442007\n",
      "epochs: 700  train loss: 198.408846382  validation loss:300.454765107\n",
      "epochs: 800  train loss: 175.899060599  validation loss:270.738317485\n",
      "epochs: 900  train loss: 157.178816617  validation loss:245.64451848\n",
      "epochs: 1000  train loss: 141.596105576  validation loss:224.415834162\n",
      "epochs: 1100  train loss: 128.61151497  validation loss:206.421747736\n",
      "epochs: 1200  train loss: 117.778761067  validation loss:191.137187349\n",
      "epochs: 1300  train loss: 108.728588708  validation loss:178.124644906\n",
      "epochs: 1400  train loss: 101.155455913  validation loss:167.019351629\n",
      "epochs: 1500  train loss: 94.8065215175  validation loss:157.516985347\n",
      "epochs: 1600  train loss: 89.4725374356  validation loss:149.363474931\n",
      "epochs: 1700  train loss: 84.9803160477  validation loss:142.346542124\n",
      "epochs: 1800  train loss: 81.1865002364  validation loss:136.288682917\n",
      "epochs: 1900  train loss: 77.9724107263  validation loss:131.04134188\n",
      "epochs: 2000  train loss: 75.2397843738  validation loss:126.480075242\n",
      "epochs: 2100  train loss: 72.9072492915  validation loss:122.500533629\n",
      "epochs: 2200  train loss: 70.907409354  validation loss:119.015124416\n",
      "epochs: 2300  train loss: 69.184432683  validation loss:115.950237673\n",
      "epochs: 2400  train loss: 67.6920569432  validation loss:113.243939635\n",
      "epochs: 2500  train loss: 66.3919393603  validation loss:110.844054046\n",
      "epochs: 2600  train loss: 65.2522918443  validation loss:108.706565431\n",
      "epochs: 2700  train loss: 64.2467519131  validation loss:106.794289593\n",
      "epochs: 2800  train loss: 63.3534486417  validation loss:105.075766028\n",
      "epochs: 2900  train loss: 62.554229915  validation loss:103.524334678\n",
      "epochs: 3000  train loss: 61.8340230953  validation loss:102.117365856\n",
      "epochs: 3100  train loss: 61.1803060402  validation loss:100.835617505\n",
      "epochs: 3200  train loss: 60.5826693954  validation loss:99.6626983563\n",
      "epochs: 3300  train loss: 60.0324543866  validation loss:98.5846191815\n",
      "epochs: 3400  train loss: 59.5224530626  validation loss:97.5894173877\n",
      "epochs: 3500  train loss: 59.0466601983  validation loss:96.666842683\n",
      "epochs: 3600  train loss: 58.6000679342  validation loss:95.8080936371\n",
      "epochs: 3700  train loss: 58.1784957686  validation loss:95.0055966724\n",
      "epochs: 3800  train loss: 57.7784497989  validation loss:94.2528204579\n",
      "epochs: 3900  train loss: 57.3970061615  validation loss:93.5441198571\n",
      "epochs: 4000  train loss: 57.0317144944  validation loss:92.8746045693\n",
      "epochs: 4100  train loss: 56.680517966  validation loss:92.2400284174\n",
      "epochs: 4200  train loss: 56.3416870152  validation loss:91.6366959117\n",
      "epochs: 4300  train loss: 56.0137644362  validation loss:91.0613832856\n",
      "epochs: 4400  train loss: 55.6955198548  validation loss:90.5112716626\n",
      "epochs: 4500  train loss: 55.3859119777  validation loss:89.9838904038\n",
      "epochs: 4600  train loss: 55.0840572764  validation loss:89.4770690091\n",
      "epochs: 4700  train loss: 54.7892039997  validation loss:88.988896211\n",
      "epochs: 4800  train loss: 54.5007105977  validation loss:88.5176851264\n",
      "epochs: 4900  train loss: 54.2180278  validation loss:88.061943515\n",
      "epochs: 5000  train loss: 53.9406837217  validation loss:87.6203483491\n"
     ]
    },
    {
     "data": {
      "image/png": "[encoded data removed]",
      "text/plain": [
       "<matplotlib.figure.Figure at 0x9152400>"
      ]
     },
     "metadata": {},
     "output_type": "display_data"
    },
    {
     "data": {
      "image/png": "[encoded data removed]",
      "text/plain": [
       "<matplotlib.figure.Figure at 0x8787438>"
      ]
     },
     "metadata": {},
     "output_type": "display_data"
    }
   ],
   "source": [
    "#import necessary packages\n",
    "import numpy as np\n",
    "import matplotlib.pyplot as plt\n",
    "from sklearn.datasets import load_svmlight_file\n",
    "from sklearn.model_selection import train_test_split\n",
    "\n",
    "#define mean squared error function\n",
    "def mse(w,x,y):\n",
    "    square_error=(y-np.dot(x,w))*(y-np.dot(x,w))\n",
    "    return np.sum(square_error)/len(y)\n",
    "\n",
    "#define gradient calculating function\n",
    "def Gradient(w,x,y):\n",
    "    #get data volume\n",
    "    data_volume=x.shape[0]\n",
    "    #calculate the gradient by two parts\n",
    "    gradient_part_1=-np.dot(x.T,y).reshape((14,1))\n",
    "    gradient_part_2=np.dot(x.T,np.dot(x,w))\n",
    "    return (gradient_part_1+gradient_part_2)/data_volume\n",
    "\n",
    "#set hyper-parameters\n",
    "learning_rate=0.0002\n",
    "epochs=5000\n",
    "#load data\n",
    "data=load_svmlight_file(\"housing_scale.txt\")\n",
    "#separate features and labels\n",
    "X,y=data[0],data[1]\n",
    "#devide dataset into train set and validation set\n",
    "X_train,X_validation,y_train,y_validation=train_test_split(X,y,test_size=0.2,random_state=10)\n",
    "#change sparse matrix to numpy array\n",
    "train=X_train.toarray()\n",
    "validation=X_validation.toarray()\n",
    "y_train=y_train.reshape((-1,1))\n",
    "y_validation=y_validation.reshape((-1,1))\n",
    "#create bias column\n",
    "X_train_bias=np.ones((404,1))\n",
    "X_validation_bias=np.ones((102,1))\n",
    "#combine training features with bias column\n",
    "X_train=np.concatenate([train,X_train_bias],axis=1)\n",
    "X_validation=np.concatenate([validation,X_validation_bias],axis=1)\n",
    "#initialize a all-zero weight parameter\n",
    "w=np.zeros((14,1))\n",
    "\n",
    "#initialize contrainers for train loss and validation loss\n",
    "losses_train=np.zeros(epochs)\n",
    "losses_validation=np.zeros(epochs)\n",
    "\n",
    "#Optimize by Gradient descent\n",
    "for i in range(epochs):\n",
    "    #get D by calculating the opposite direction of gradient \n",
    "    D=-Gradient(w,X_train,y_train)\n",
    "    #update the model\n",
    "    w=w+learning_rate*D\n",
    "    #calculate the train loss and the validation loss at the iteration\n",
    "    loss_train=mse(w,X_train,y_train)\n",
    "    loss_validation=mse(w,X_validation,y_validation)\n",
    "    #save the train loss and the validation loss in the contrainer\n",
    "    losses_train[i]=loss_train\n",
    "    losses_validation[i]=loss_validation\n",
    "    #log every 100 epochs\n",
    "    if(i%100==99):\n",
    "        print(\"epochs: \"+str(i+1)+\"  train loss: \"+str(loss_train)+\"  validation loss:\"+str(loss_validation))\n",
    "    \n",
    "#draw graph of the train loss with the number of iterations\n",
    "x_axis=np.arange(epochs)+1\n",
    "plt.figure(1)\n",
    "plt.plot(x_axis,losses_train,'b')\n",
    "plt.xlabel(\"Iteration\")\n",
    "plt.ylabel(\"Loss\")\n",
    "plt.title(\"Train Loss Graph\")\n",
    "plt.show()\n",
    "#draw graph of the validation loss with the number of iterations \n",
    "plt.figure(2)\n",
    "plt.plot(x_axis,losses_validation,'r')\n",
    "plt.xlabel(\"Iteration\")\n",
    "plt.ylabel(\"Loss\")\n",
    "plt.title(\"Validation Loss Graph\")\n",
    "plt.show()"
   ]
  },
  {
   "cell_type": "code",
   "execution_count": null,
   "metadata": {
    "collapsed": true
   },
   "outputs": [],
   "source": []
  }
 ],
 "metadata": {
  "kernelspec": {
   "display_name": "Python 3",
   "language": "python",
   "name": "python3"
  },
  "language_info": {
   "codemirror_mode": {
    "name": "ipython",
    "version": 3
   },
   "file_extension": ".py",
   "mimetype": "text/x-python",
   "name": "python",
   "nbconvert_exporter": "python",
   "pygments_lexer": "ipython3",
   "version": "3.6.0"
  }
 },
 "nbformat": 4,
 "nbformat_minor": 2
}
